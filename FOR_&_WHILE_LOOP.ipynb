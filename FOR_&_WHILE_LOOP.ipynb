{
 "cells": [
  {
   "cell_type": "code",
   "execution_count": 2,
   "id": "30e5d7d1",
   "metadata": {},
   "outputs": [
    {
     "name": "stdout",
     "output_type": "stream",
     "text": [
      "Current Letter: P\n",
      "Current Letter: y\n",
      "Current Letter: t\n",
      "Current Letter: o\n",
      "Current Letter: n\n"
     ]
    }
   ],
   "source": [
    "for letter in 'Python':\n",
    "    if letter=='h':\n",
    "        continue\n",
    "    print (\"Current Letter:\", letter)\n",
    "    "
   ]
  },
  {
   "cell_type": "code",
   "execution_count": 4,
   "id": "c3ff18c5",
   "metadata": {},
   "outputs": [
    {
     "name": "stdout",
     "output_type": "stream",
     "text": [
      "Current variable value:- 9\n",
      "Current variable value:- 8\n",
      "Current variable value:- 7\n",
      "Current variable value:- 6\n",
      "Current variable value:- 4\n",
      "Current variable value:- 3\n",
      "Current variable value:- 2\n",
      "Current variable value:- 1\n",
      "Current variable value:- 0\n",
      "Good Bye\n"
     ]
    }
   ],
   "source": [
    "var=10\n",
    "while var > 0:\n",
    "    var=var-1\n",
    "    if var==5:\n",
    "        continue\n",
    "    print (\"Current variable value:-\", var)\n",
    "print (\"Good Bye\")"
   ]
  },
  {
   "cell_type": "code",
   "execution_count": 5,
   "id": "a7aa3dc6",
   "metadata": {},
   "outputs": [
    {
     "name": "stdout",
     "output_type": "stream",
     "text": [
      "Current Letter: P\n",
      "Current Letter: y\n",
      "Current Letter: t\n"
     ]
    }
   ],
   "source": [
    "for letter in 'Python':\n",
    "    if letter=='h':\n",
    "        break\n",
    "    print (\"Current Letter:\", letter)\n",
    "    "
   ]
  },
  {
   "cell_type": "code",
   "execution_count": 6,
   "id": "35a27833",
   "metadata": {},
   "outputs": [
    {
     "name": "stdout",
     "output_type": "stream",
     "text": [
      "Current variable value:- 10\n",
      "Current variable value:- 9\n",
      "Current variable value:- 8\n",
      "Current variable value:- 7\n",
      "Current variable value:- 6\n",
      "Current variable value:- 5\n",
      "Current variable value:- 4\n",
      "Current variable value:- 3\n",
      "Current variable value:- 2\n",
      "Current variable value:- 1\n",
      "Good Bye\n"
     ]
    }
   ],
   "source": [
    "var=10\n",
    "while var > 0:\n",
    "    print (\"Current variable value:-\", var)\n",
    "    var=var-1\n",
    "    if var==5:\n",
    "        continue\n",
    "print (\"Good Bye\")"
   ]
  },
  {
   "cell_type": "code",
   "execution_count": 7,
   "id": "d002bced",
   "metadata": {},
   "outputs": [
    {
     "name": "stdout",
     "output_type": "stream",
     "text": [
      "Enter a no:-3\n",
      "1\n",
      "2\n",
      "3\n"
     ]
    }
   ],
   "source": [
    "n=int(input(\"Enter a no:-\"))\n",
    "for no in range(1, n+1, 1):\n",
    "    print(no)"
   ]
  },
  {
   "cell_type": "code",
   "execution_count": 18,
   "id": "b13a14be",
   "metadata": {},
   "outputs": [
    {
     "name": "stdout",
     "output_type": "stream",
     "text": [
      "Enter a no:-9\n",
      "9 x 1 = 9\n",
      "9 x 2 = 18\n",
      "9 x 3 = 27\n",
      "9 x 4 = 36\n",
      "9 x 5 = 45\n",
      "9 x 6 = 54\n",
      "9 x 7 = 63\n",
      "9 x 8 = 72\n",
      "9 x 9 = 81\n",
      "9 x 10 = 90\n"
     ]
    }
   ],
   "source": [
    "i=1\n",
    "n=int(input(\"Enter a no:-\"))\n",
    "while i <= 10:\n",
    "    print(n ,'x', i, '=', n*i)\n",
    "    i=i+1"
   ]
  },
  {
   "cell_type": "code",
   "execution_count": 21,
   "id": "a2baf4c1",
   "metadata": {},
   "outputs": [
    {
     "name": "stdout",
     "output_type": "stream",
     "text": [
      "Enter a no:-9\n",
      "9 x 1 = 9\n",
      "9 x 2 = 18\n",
      "9 x 3 = 27\n",
      "9 x 4 = 36\n",
      "9 x 5 = 45\n",
      "9 x 6 = 54\n",
      "9 x 7 = 63\n",
      "9 x 8 = 72\n",
      "9 x 9 = 81\n",
      "9 x 10 = 90\n"
     ]
    }
   ],
   "source": [
    "n=int(input(\"Enter a no:-\"))\n",
    "for i in range(1,11):\n",
    "    print(n, \"x\", i, \"=\", n*i )"
   ]
  },
  {
   "cell_type": "code",
   "execution_count": 2,
   "id": "2ab044a6",
   "metadata": {},
   "outputs": [
    {
     "name": "stdout",
     "output_type": "stream",
     "text": [
      "Enter a no:-16\n",
      "The Sum Is:- 136\n"
     ]
    }
   ],
   "source": [
    "n=int(input(\"Enter a no:-\"))\n",
    "sum=0\n",
    "if n<0:\n",
    "    print(\"Enter a natural no\")\n",
    "else:\n",
    "    while(n>0):\n",
    "        sum=sum+n\n",
    "        n=n-1\n",
    "print(\"The Sum Is:-\",sum)"
   ]
  },
  {
   "cell_type": "code",
   "execution_count": 7,
   "id": "1ab27fc6",
   "metadata": {},
   "outputs": [
    {
     "name": "stdout",
     "output_type": "stream",
     "text": [
      "Enter a no:-7\n",
      "The factorial of 7 is:- 5040\n"
     ]
    }
   ],
   "source": [
    "n=int(input(\"Enter a no:-\"))\n",
    "factorial=1\n",
    "if n < 0:\n",
    "    print(\"It's not a factorial no\")\n",
    "else:\n",
    "    for i in range(1,n+1):\n",
    "        factorial=factorial*i\n",
    "print(\"The factorial of\",n,\"is:-\", factorial)"
   ]
  },
  {
   "cell_type": "code",
   "execution_count": 1,
   "id": "c8355cac",
   "metadata": {},
   "outputs": [
    {
     "name": "stdout",
     "output_type": "stream",
     "text": [
      "Enter your sales of a month:-70000\n",
      "Average sales of the month:- 2333.3333333333335\n"
     ]
    }
   ],
   "source": [
    "sales=int(input(\"Enter your sales of a month:-\"))\n",
    "avg=sales/30\n",
    "print(\"Average sales of the month:-\", avg)"
   ]
  },
  {
   "cell_type": "code",
   "execution_count": null,
   "id": "cf0d9093",
   "metadata": {},
   "outputs": [],
   "source": []
  }
 ],
 "metadata": {
  "kernelspec": {
   "display_name": "Python 3 (ipykernel)",
   "language": "python",
   "name": "python3"
  },
  "language_info": {
   "codemirror_mode": {
    "name": "ipython",
    "version": 3
   },
   "file_extension": ".py",
   "mimetype": "text/x-python",
   "name": "python",
   "nbconvert_exporter": "python",
   "pygments_lexer": "ipython3",
   "version": "3.9.7"
  }
 },
 "nbformat": 4,
 "nbformat_minor": 5
}
